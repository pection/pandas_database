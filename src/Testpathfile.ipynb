{
 "cells": [
  {
   "cell_type": "code",
   "execution_count": 1,
   "id": "executed-order",
   "metadata": {},
   "outputs": [],
   "source": [
    "# @Author: Naphat Nithisopa <pection>\n",
    "# @Date:   2021-01-08T22:19:48+07:00\n",
    "# @Email:  pection.naphat@gmail.com\n",
    "# @Filename: createpd.py\n",
    "# @Last modified by:   pection\n",
    "# @Last modified time: 2021-01-29T15:26:49+07:00\n",
    "\n",
    "\n",
    "from utils.managedproduct import ManageProductCode\n",
    "import pandas as pd\n",
    "import os ,sys\n",
    "# import numpy as np\n",
    "import pdb \n",
    "import json\n",
    "\n",
    "def get_file_path() -> str:\n",
    "    try :\n",
    "        os.chdir(os.getcwd()+\"/dataset\")\n",
    "        path = [os.path.abspath(x) for x in os.listdir(os.getcwd())]\n",
    "        jsonpath = [i for i in (list(map(lambda x: x if \".json\" in x else None,path))) if i]\n",
    "        return jsonpath[0]\n",
    "        # return path\n",
    "    except ValueError:\n",
    "        print(f'Oops!  That was no valid path.  Try again...')\n",
    "if __name__ == '__main__':\n",
    "\n",
    "    namecsv=[\"DT\",\"SF\",\"BE\",\"CT\",\"WD\",\"ST\",\"LC\",\"NT\",\"DC\",\"TS\"]\n",
    "    file_path_json=get_file_path()\n",
    "    try:\n",
    "        file_json =open(file_path_json,)\n",
    "        path_file = json.load(file_json)\n",
    "        file_json.close()\n",
    "    except ValueError:\n",
    "        print(f'{file_path_json} not found')"
   ]
  },
  {
   "cell_type": "code",
   "execution_count": 3,
   "id": "comparative-atlanta",
   "metadata": {},
   "outputs": [
    {
     "ename": "NameError",
     "evalue": "name '__file__' is not defined",
     "output_type": "error",
     "traceback": [
      "\u001b[0;31m---------------------------------------------------------------------------\u001b[0m",
      "\u001b[0;31mNameError\u001b[0m                                 Traceback (most recent call last)",
      "\u001b[0;32m<ipython-input-3-d1e45bb8f495>\u001b[0m in \u001b[0;36m<module>\u001b[0;34m\u001b[0m\n\u001b[0;32m----> 1\u001b[0;31m \u001b[0mprint\u001b[0m\u001b[0;34m(\u001b[0m\u001b[0mos\u001b[0m\u001b[0;34m.\u001b[0m\u001b[0mchdir\u001b[0m\u001b[0;34m(\u001b[0m\u001b[0mos\u001b[0m\u001b[0;34m.\u001b[0m\u001b[0mpath\u001b[0m\u001b[0;34m.\u001b[0m\u001b[0mdirname\u001b[0m\u001b[0;34m(\u001b[0m\u001b[0mos\u001b[0m\u001b[0;34m.\u001b[0m\u001b[0mpath\u001b[0m\u001b[0;34m.\u001b[0m\u001b[0mabspath\u001b[0m\u001b[0;34m(\u001b[0m\u001b[0m__file__\u001b[0m\u001b[0;34m)\u001b[0m\u001b[0;34m)\u001b[0m\u001b[0;34m)\u001b[0m\u001b[0;34m)\u001b[0m\u001b[0;34m\u001b[0m\u001b[0;34m\u001b[0m\u001b[0m\n\u001b[0m",
      "\u001b[0;31mNameError\u001b[0m: name '__file__' is not defined"
     ]
    }
   ],
   "source": [
    "print(os.chdir(os.path.dirname(os.path.abspath(__file__))))"
   ]
  },
  {
   "cell_type": "code",
   "execution_count": null,
   "id": "partial-highlight",
   "metadata": {},
   "outputs": [],
   "source": []
  }
 ],
 "metadata": {
  "kernelspec": {
   "display_name": "Python 3.8.5 64-bit",
   "language": "python",
   "name": "python38564bit7e217cae3017463aa0aa85d5228ee7c8"
  },
  "language_info": {
   "codemirror_mode": {
    "name": "ipython",
    "version": 3
   },
   "file_extension": ".py",
   "mimetype": "text/x-python",
   "name": "python",
   "nbconvert_exporter": "python",
   "pygments_lexer": "ipython3",
   "version": "3.8.5"
  }
 },
 "nbformat": 4,
 "nbformat_minor": 5
}
