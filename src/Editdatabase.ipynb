{
 "cells": [
  {
   "cell_type": "code",
   "execution_count": 3,
   "id": "amended-constitutional",
   "metadata": {},
   "outputs": [],
   "source": [
    "import sqlite3 as sql\n",
    "from utils.managedproduct import ManageProductCode\n",
    "import pandas as pd\n",
    "import os ,sys\n",
    "import pyodbc"
   ]
  },
  {
   "cell_type": "code",
   "execution_count": 4,
   "id": "celtic-database",
   "metadata": {},
   "outputs": [],
   "source": [
    "os.chdir(os.getcwd()+\"/dataset\")\n",
    "file_path = [os.path.abspath(x) for x in os.listdir(os.getcwd())]"
   ]
  },
  {
   "cell_type": "code",
   "execution_count": 5,
   "id": "satisfied-bidding",
   "metadata": {},
   "outputs": [
    {
     "data": {
      "text/plain": [
       "['/home/pection/Backup/Program/pandas_database/src/dataset/Dining_table_dataset_DT.csv',\n",
       " '/home/pection/Backup/Program/pandas_database/src/dataset/Sofa_dataset_SF.csv',\n",
       " '/home/pection/Backup/Program/pandas_database/src/dataset/Bed_dataset_BE.csv',\n",
       " '/home/pection/Backup/Program/pandas_database/src/dataset/Coffe_table_dataset_CT.csv',\n",
       " '/home/pection/Backup/Program/pandas_database/src/dataset/Working_desk_dataset_WD.csv',\n",
       " '/home/pection/Backup/Program/pandas_database/src/dataset/Side_Table_dataset_ST.csv',\n",
       " '/home/pection/Backup/Program/pandas_database/src/dataset/Living_room_Cabinet_dataset_LC.csv',\n",
       " '/home/pection/Backup/Program/pandas_database/src/dataset/Negotiating_table_dataset_NT.csv',\n",
       " '/home/pection/Backup/Program/pandas_database/src/dataset/Dining_chair_dataset_DC.csv',\n",
       " '/home/pection/Backup/Program/pandas_database/src/dataset/Tv_stand_dataset_TS.csv']"
      ]
     },
     "execution_count": 5,
     "metadata": {},
     "output_type": "execute_result"
    }
   ],
   "source": [
    "file_path"
   ]
  },
  {
   "cell_type": "code",
   "execution_count": 6,
   "id": "impossible-graham",
   "metadata": {},
   "outputs": [],
   "source": [
    "import json"
   ]
  },
  {
   "cell_type": "code",
   "execution_count": 7,
   "id": "knowing-gnome",
   "metadata": {},
   "outputs": [],
   "source": [
    "namecsv=[\"DT\",\"SF\",\"BE\",\"CT\",\"WD\",\"ST\",\"LC\",\"NT\",\"DC\",\"TS\"]"
   ]
  },
  {
   "cell_type": "code",
   "execution_count": 8,
   "id": "herbal-polish",
   "metadata": {},
   "outputs": [],
   "source": [
    "zipfile = zip(namecsv,file_path)"
   ]
  },
  {
   "cell_type": "code",
   "execution_count": 10,
   "id": "atomic-ocean",
   "metadata": {},
   "outputs": [
    {
     "data": {
      "text/plain": [
       "{'DT': '/home/pection/Backup/Program/pandas_database/src/dataset/Dining_table_dataset_DT.csv',\n",
       " 'SF': '/home/pection/Backup/Program/pandas_database/src/dataset/Sofa_dataset_SF.csv',\n",
       " 'BE': '/home/pection/Backup/Program/pandas_database/src/dataset/Bed_dataset_BE.csv',\n",
       " 'CT': '/home/pection/Backup/Program/pandas_database/src/dataset/Coffe_table_dataset_CT.csv',\n",
       " 'WD': '/home/pection/Backup/Program/pandas_database/src/dataset/Working_desk_dataset_WD.csv',\n",
       " 'ST': '/home/pection/Backup/Program/pandas_database/src/dataset/Side_Table_dataset_ST.csv',\n",
       " 'LC': '/home/pection/Backup/Program/pandas_database/src/dataset/Living_room_Cabinet_dataset_LC.csv',\n",
       " 'NT': '/home/pection/Backup/Program/pandas_database/src/dataset/Negotiating_table_dataset_NT.csv',\n",
       " 'DC': '/home/pection/Backup/Program/pandas_database/src/dataset/Dining_chair_dataset_DC.csv',\n",
       " 'TS': '/home/pection/Backup/Program/pandas_database/src/dataset/Tv_stand_dataset_TS.csv'}"
      ]
     },
     "execution_count": 10,
     "metadata": {},
     "output_type": "execute_result"
    }
   ],
   "source": [
    "dict_zip = dict(zipfile)\n",
    "dict_zip"
   ]
  },
  {
   "cell_type": "code",
   "execution_count": 11,
   "id": "spread-saudi",
   "metadata": {},
   "outputs": [],
   "source": [
    "import json\n",
    "with open('pathdb.json','w') as fp:\n",
    "    json.dump(dict_zip,fp)"
   ]
  },
  {
   "cell_type": "code",
   "execution_count": 20,
   "id": "incredible-failing",
   "metadata": {},
   "outputs": [
    {
     "name": "stdout",
     "output_type": "stream",
     "text": [
      "DT\n",
      "SF\n",
      "BE\n",
      "CT\n",
      "WD\n",
      "ST\n",
      "LC\n",
      "NT\n",
      "DC\n",
      "TS\n",
      "/home/pection/Backup/Program/pandas_database/src/dataset/Dining_table_dataset_DT.csv\n"
     ]
    }
   ],
   "source": [
    "f = open('pathdb.json',)\n",
    "data = json.load(f)\n",
    "for i in data:\n",
    "    print(i)\n",
    "f.close()\n",
    "print(data['DT'])"
   ]
  },
  {
   "cell_type": "code",
   "execution_count": null,
   "id": "recorded-bedroom",
   "metadata": {},
   "outputs": [],
   "source": []
  }
 ],
 "metadata": {
  "kernelspec": {
   "display_name": "Python 3.8.5 64-bit",
   "language": "python",
   "name": "python38564bit7e217cae3017463aa0aa85d5228ee7c8"
  },
  "language_info": {
   "codemirror_mode": {
    "name": "ipython",
    "version": 3
   },
   "file_extension": ".py",
   "mimetype": "text/x-python",
   "name": "python",
   "nbconvert_exporter": "python",
   "pygments_lexer": "ipython3",
   "version": "3.8.5"
  }
 },
 "nbformat": 4,
 "nbformat_minor": 5
}
