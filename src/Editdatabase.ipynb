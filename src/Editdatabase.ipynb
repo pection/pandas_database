{
 "cells": [
  {
   "cell_type": "code",
   "execution_count": 1,
   "id": "amended-constitutional",
   "metadata": {},
   "outputs": [
    {
     "name": "stdout",
     "output_type": "stream",
     "text": [
      "File path is a /home/pection/Backup/Program/pandas_database/src/dataset/pathdb.json\n",
      "Read csv file and convert to DataFrame successfully\n",
      "Your path is /home/pection/Backup/Program/pandas_database/src/dataset/Dining_table_dataset_DT.csv\n",
      "Your product code is DT\n",
      "Your CSV file have 60 row\n"
     ]
    }
   ],
   "source": [
    "from utils.managedproduct import ManageProductCode\n",
    "import pandas as pd\n",
    "import os ,sys\n",
    "import pdb \n",
    "import json\n",
    "\n",
    "def get_file_path() -> str:\n",
    "    try :\n",
    "        os.chdir(os.getcwd()+\"/dataset\")\n",
    "        path = [os.path.abspath(x) for x in os.listdir(os.getcwd())]\n",
    "        jsonpath = [i for i in (list(map(lambda x: x if \".json\" in x else None,path))) if i]\n",
    "        print(f'File path is a {jsonpath[0]}')\n",
    "        return jsonpath[0]\n",
    "        # return path\n",
    "    except OSError as e: \n",
    "        path = [os.path.abspath(x) for x in os.listdir(os.getcwd())]\n",
    "        jsonpath = [i for i in (list(map(lambda x: x if \".json\" in x else None,path))) if i]\n",
    "        print(f'File path is a {jsonpath[0]}')\n",
    "        return jsonpath[0]\n",
    "        print(f'Oops!  That was no valid path.  Try again...')\n",
    "if __name__ == '__main__':\n",
    "    instanceNames=[\"DT\",\"SF\",\"BE\",\"CT\",\"WD\",\"ST\",\"LC\",\"NT\",\"DC\",\"TS\"]\n",
    "    file_path_json=get_file_path()\n",
    "    try:\n",
    "        file_json =open(file_path_json,)\n",
    "        path_file = json.load(file_json)\n",
    "        file_json.close()\n",
    "    except ValueError:\n",
    "        print(f'{file_path_json} not found')\n",
    "    Dining_table = ManageProductCode(path_file[instanceNames[0]])\n",
    "    Sofa = ManageProductCode(path_file[instanceNames[1]])\n",
    "    Bed = ManageProductCode(path_file[instanceNames[2]])\n",
    "    Coffe_table = ManageProductCode(path_file[instanceNames[3]])\n",
    "    Working_desk = ManageProductCode(path_file[instanceNames[4]])\n",
    "    Side_table = ManageProductCode(path_file[instanceNames[5]])\n",
    "    Living_room_Cabinet = ManageProductCode(path_file[instanceNames[6]])\n",
    "    Negotiating_table = ManageProductCode(path_file[instanceNames[7]])\n",
    "    Dining_chair = ManageProductCode(path_file[instanceNames[8]])\n",
    "    Tv_stand = ManageProductCode(path_file[instanceNames[9]])\n",
    "    \n",
    "    Dining_table.read_csv_file()\n",
    "    Dining_table.get_product_details()\n"
   ]
  },
  {
   "cell_type": "code",
   "execution_count": 2,
   "id": "celtic-database",
   "metadata": {},
   "outputs": [],
   "source": [
    "Image1 = Dining_table.get_product_image()"
   ]
  },
  {
   "cell_type": "code",
   "execution_count": 3,
   "id": "continent-anderson",
   "metadata": {},
   "outputs": [],
   "source": [
    "Image2 = Dining_table.df.to_dict('records')"
   ]
  },
  {
   "cell_type": "markdown",
   "id": "associate-black",
   "metadata": {},
   "source": []
  },
  {
   "cell_type": "code",
   "execution_count": 4,
   "id": "impossible-graham",
   "metadata": {},
   "outputs": [
    {
     "data": {
      "text/plain": [
       "{'Product_Name': 'Modern luxury marble dinning table set with metal frame dinning room furniture',\n",
       " 'Product_Size': '180*90*75CM, 220*100*75CM',\n",
       " 'Product_Prize': '$380.00 - $450.00',\n",
       " 'Product_Image': 'https://sc01.alicdn.com/kf/H5d4af2c9106e4b769b9a4ffd46812936B.jpg, //sc01.alicdn.com/kf/H43d9746f07114e5994ba96c4f12a19f4D.jpg, //sc02.alicdn.com/kf/H72d652bfe6d94e899e3f8555aa0bf98au.jpg',\n",
       " 'Product_Link': 'https://fscalla.en.alibaba.com/product/62501808074-817010597/Modern_luxury_marble_dinning_table_set_with_metal_frame_dinning_room_furniture.html',\n",
       " 'Product_ID': 'DT-1'}"
      ]
     },
     "execution_count": 4,
     "metadata": {},
     "output_type": "execute_result"
    }
   ],
   "source": [
    "Image2[0]"
   ]
  },
  {
   "cell_type": "code",
   "execution_count": 13,
   "id": "knowing-gnome",
   "metadata": {},
   "outputs": [],
   "source": [
    "Image3=Image2[0][\"Product_Image\"].split(\",\")"
   ]
  },
  {
   "cell_type": "code",
   "execution_count": 14,
   "id": "atomic-ocean",
   "metadata": {},
   "outputs": [
    {
     "data": {
      "text/plain": [
       "['https://sc01.alicdn.com/kf/H5d4af2c9106e4b769b9a4ffd46812936B.jpg',\n",
       " ' //sc01.alicdn.com/kf/H43d9746f07114e5994ba96c4f12a19f4D.jpg',\n",
       " ' //sc02.alicdn.com/kf/H72d652bfe6d94e899e3f8555aa0bf98au.jpg']"
      ]
     },
     "execution_count": 14,
     "metadata": {},
     "output_type": "execute_result"
    }
   ],
   "source": [
    "image3"
   ]
  },
  {
   "cell_type": "code",
   "execution_count": 7,
   "id": "spread-saudi",
   "metadata": {},
   "outputs": [
    {
     "ename": "NameError",
     "evalue": "name 'link' is not defined",
     "output_type": "error",
     "traceback": [
      "\u001b[0;31m---------------------------------------------------------------------------\u001b[0m",
      "\u001b[0;31mNameError\u001b[0m                                 Traceback (most recent call last)",
      "\u001b[0;32m<ipython-input-7-b2dac209fb44>\u001b[0m in \u001b[0;36m<module>\u001b[0;34m\u001b[0m\n\u001b[0;32m----> 1\u001b[0;31m \u001b[0mlink\u001b[0m\u001b[0;34m=\u001b[0m\u001b[0mlist\u001b[0m\u001b[0;34m(\u001b[0m\u001b[0mmap\u001b[0m\u001b[0;34m(\u001b[0m\u001b[0;32mlambda\u001b[0m \u001b[0mx\u001b[0m\u001b[0;34m:\u001b[0m \u001b[0mx\u001b[0m\u001b[0;34m.\u001b[0m\u001b[0mreplace\u001b[0m\u001b[0;34m(\u001b[0m\u001b[0;34m'https://'\u001b[0m\u001b[0;34m,\u001b[0m\u001b[0;34m''\u001b[0m\u001b[0;34m)\u001b[0m\u001b[0;34m.\u001b[0m\u001b[0mreplace\u001b[0m\u001b[0;34m(\u001b[0m\u001b[0;34m'.jpg_50x50'\u001b[0m\u001b[0;34m,\u001b[0m\u001b[0;34m''\u001b[0m\u001b[0;34m)\u001b[0m\u001b[0;34m.\u001b[0m\u001b[0mreplace\u001b[0m\u001b[0;34m(\u001b[0m\u001b[0;34m'//'\u001b[0m\u001b[0;34m,\u001b[0m\u001b[0;34m''\u001b[0m\u001b[0;34m)\u001b[0m\u001b[0;34m,\u001b[0m\u001b[0mlink\u001b[0m\u001b[0;34m)\u001b[0m\u001b[0;34m)\u001b[0m\u001b[0;34m\u001b[0m\u001b[0;34m\u001b[0m\u001b[0m\n\u001b[0m",
      "\u001b[0;31mNameError\u001b[0m: name 'link' is not defined"
     ]
    }
   ],
   "source": [
    "link=list(map(lambda x: x.replace('https://','').replace('.jpg_50x50','').replace('//',''),link))"
   ]
  },
  {
   "cell_type": "code",
   "execution_count": 20,
   "id": "incredible-failing",
   "metadata": {},
   "outputs": [
    {
     "name": "stdout",
     "output_type": "stream",
     "text": [
      "https://sc01.alicdn.com/kf/H5d4af2c9106e4b769b9a4ffd46812936B.jpg\n"
     ]
    }
   ],
   "source": [
    "for i in image3:\n",
    "    if \"https:\" in i:\n",
    "        print(i)\n",
    "        image3.remove(i)"
   ]
  },
  {
   "cell_type": "code",
   "execution_count": 21,
   "id": "ethical-idaho",
   "metadata": {},
   "outputs": [
    {
     "data": {
      "text/plain": [
       "[' //sc01.alicdn.com/kf/H43d9746f07114e5994ba96c4f12a19f4D.jpg',\n",
       " ' //sc02.alicdn.com/kf/H72d652bfe6d94e899e3f8555aa0bf98au.jpg']"
      ]
     },
     "execution_count": 21,
     "metadata": {},
     "output_type": "execute_result"
    }
   ],
   "source": [
    "image3"
   ]
  },
  {
   "cell_type": "code",
   "execution_count": 10,
   "id": "recorded-bedroom",
   "metadata": {},
   "outputs": [
    {
     "data": {
      "text/plain": [
       "['https://sc01.alicdn.com/kf/H5d4af2c9106e4b769b9a4ffd46812936B.jpg',\n",
       " ' //sc01.alicdn.com/kf/H43d9746f07114e5994ba96c4f12a19f4D.jpg',\n",
       " ' //sc02.alicdn.com/kf/H72d652bfe6d94e899e3f8555aa0bf98au.jpg']"
      ]
     },
     "execution_count": 10,
     "metadata": {},
     "output_type": "execute_result"
    }
   ],
   "source": [
    "image4"
   ]
  },
  {
   "cell_type": "code",
   "execution_count": 67,
   "id": "reported-walnut",
   "metadata": {},
   "outputs": [],
   "source": [
    "Product_ID = Working_dest.df['Product_ID']\n",
    "Product_Image=Working_dest.df['Product_Image']"
   ]
  },
  {
   "cell_type": "code",
   "execution_count": 71,
   "id": "synthetic-significance",
   "metadata": {},
   "outputs": [
    {
     "name": "stdout",
     "output_type": "stream",
     "text": [
      "0    WD-1\n",
      "1    WD-2\n",
      "2    WD-3\n",
      "Name: Product_ID, dtype: object\n",
      "0    https://sc01.alicdn.com/kf/H4988a7daeffb43419f...\n",
      "1    //sc01.alicdn.com/kf/H8003f8b393a947ee89afd544...\n",
      "2    //sc01.alicdn.com/kf/H1b2cc6deae6d4bdfa3e38a17...\n",
      "Name: Product_Image, dtype: object\n"
     ]
    }
   ],
   "source": [
    "print(Product_ID)\n",
    "print(Product_Image)"
   ]
  }
 ],
 "metadata": {
  "kernelspec": {
   "display_name": "Python 3.8.5 64-bit",
   "language": "python",
   "name": "python38564bit7e217cae3017463aa0aa85d5228ee7c8"
  },
  "language_info": {
   "codemirror_mode": {
    "name": "ipython",
    "version": 3
   },
   "file_extension": ".py",
   "mimetype": "text/x-python",
   "name": "python",
   "nbconvert_exporter": "python",
   "pygments_lexer": "ipython3",
   "version": "3.8.5"
  }
 },
 "nbformat": 4,
 "nbformat_minor": 5
}
