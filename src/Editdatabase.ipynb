{
 "cells": [
  {
   "cell_type": "code",
   "execution_count": 1,
   "id": "amended-constitutional",
   "metadata": {},
   "outputs": [],
   "source": [
    "from utils.managedproduct import ManageProductCode\n",
    "import pandas as pd\n",
    "import os ,sys\n",
    "# import numpy as np\n",
    "import pdb \n",
    "import json\n",
    "if __name__ == '__main__':\n",
    "\n",
    "    # product_code = filepath[index_csv - 3:index_csv - 1]\n",
    "    columns_name = [\n",
    "        \"Product_Name\",\n",
    "        \"Product_Size\",\n",
    "        \"Prodcut_Prize\",\n",
    "        \"Product_Image\",\n",
    "        \"Product_Link\",\n",
    "        \"Product_ID\"\n",
    "    ]\n",
    "    instanceNames=[\"DT\",\"SF\",\"BE\",\"CT\",\"WD\",\"ST\",\"LC\",\"NT\",\"DC\",\"TS\"]\n",
    "    file_json =open('/home/pection/Backup/Program/pandas_database/src/dataset/pathdb.json',)\n",
    "    path_file = json.load(file_json)\n",
    "    file_json.close()"
   ]
  },
  {
   "cell_type": "code",
   "execution_count": 5,
   "id": "celtic-database",
   "metadata": {},
   "outputs": [],
   "source": [
    "from utils.managedproduct import ManageProductCode\n"
   ]
  },
  {
   "cell_type": "code",
   "execution_count": 62,
   "id": "satisfied-bidding",
   "metadata": {},
   "outputs": [],
   "source": [
    "Working_dest = ManageProductCode(path_file[\"WD\"])"
   ]
  },
  {
   "cell_type": "code",
   "execution_count": 64,
   "id": "impossible-graham",
   "metadata": {},
   "outputs": [
    {
     "name": "stdout",
     "output_type": "stream",
     "text": [
      "Read csv file and convert to DataFrame successfully\n"
     ]
    },
    {
     "data": {
      "text/plain": [
       "Int64Index([0, 1, 2], dtype='int64')"
      ]
     },
     "execution_count": 64,
     "metadata": {},
     "output_type": "execute_result"
    }
   ],
   "source": [
    "Working_dest.read_csv_file()\n",
    "Working_dest.df.index"
   ]
  },
  {
   "cell_type": "code",
   "execution_count": 21,
   "id": "knowing-gnome",
   "metadata": {},
   "outputs": [
    {
     "data": {
      "text/plain": [
       "'https://sc01.alicdn.com/kf/H4988a7daeffb43419ffa8ed2b0dce9a7b.jpg, //sc01.alicdn.com/kf/H05554309e86e4ed7ad2377dca0d5ae98d.jpg_50x50.jpg, //sc02.alicdn.com/kf/H1ab5599b89b642cda8dc23d29a14dfa1C.jpg_50x50.jpg, //sc02.alicdn.com/kf/H798f75c57c0942aeaaef68fb25f2953ed.jpg_50x50.jpg, //sc02.alicdn.com/kf/He8399bfb639445b39c1a7a48b85c3c0c8.jpg_50x50.jpg, //sc02.alicdn.com/kf/Hed9a5bba81e94917b2240eba28db22580.jpg_50x50.jpg, //sc01.alicdn.com/kf/H61e2910d76cb4ea791c3e58b1aebce1d8.jpg_50x50.jpg'"
      ]
     },
     "execution_count": 21,
     "metadata": {},
     "output_type": "execute_result"
    }
   ],
   "source": [
    "Working_dest.df.iat[0,3]"
   ]
  },
  {
   "cell_type": "raw",
   "id": "limiting-professor",
   "metadata": {},
   "source": []
  },
  {
   "cell_type": "code",
   "execution_count": 58,
   "id": "atomic-ocean",
   "metadata": {},
   "outputs": [],
   "source": [
    "link = Working_dest.df.iat[0,3].split(',')"
   ]
  },
  {
   "cell_type": "code",
   "execution_count": 59,
   "id": "spread-saudi",
   "metadata": {},
   "outputs": [],
   "source": [
    "link=list(map(lambda x: x.replace('https://','').replace('.jpg_50x50','').replace('//',''),link))"
   ]
  },
  {
   "cell_type": "code",
   "execution_count": 60,
   "id": "incredible-failing",
   "metadata": {},
   "outputs": [
    {
     "data": {
      "text/plain": [
       "['sc01.alicdn.com/kf/H4988a7daeffb43419ffa8ed2b0dce9a7b.jpg',\n",
       " ' sc01.alicdn.com/kf/H05554309e86e4ed7ad2377dca0d5ae98d.jpg',\n",
       " ' sc02.alicdn.com/kf/H1ab5599b89b642cda8dc23d29a14dfa1C.jpg',\n",
       " ' sc02.alicdn.com/kf/H798f75c57c0942aeaaef68fb25f2953ed.jpg',\n",
       " ' sc02.alicdn.com/kf/He8399bfb639445b39c1a7a48b85c3c0c8.jpg',\n",
       " ' sc02.alicdn.com/kf/Hed9a5bba81e94917b2240eba28db22580.jpg',\n",
       " ' sc01.alicdn.com/kf/H61e2910d76cb4ea791c3e58b1aebce1d8.jpg']"
      ]
     },
     "execution_count": 60,
     "metadata": {},
     "output_type": "execute_result"
    }
   ],
   "source": [
    "link"
   ]
  },
  {
   "cell_type": "code",
   "execution_count": 61,
   "id": "recorded-bedroom",
   "metadata": {},
   "outputs": [
    {
     "name": "stdout",
     "output_type": "stream",
     "text": [
      "sc01.alicdn.com/kf/H4988a7daeffb43419ffa8ed2b0dce9a7b.jpg\n",
      " sc01.alicdn.com/kf/H05554309e86e4ed7ad2377dca0d5ae98d.jpg\n",
      " sc02.alicdn.com/kf/H1ab5599b89b642cda8dc23d29a14dfa1C.jpg\n",
      " sc02.alicdn.com/kf/H798f75c57c0942aeaaef68fb25f2953ed.jpg\n",
      " sc02.alicdn.com/kf/He8399bfb639445b39c1a7a48b85c3c0c8.jpg\n",
      " sc02.alicdn.com/kf/Hed9a5bba81e94917b2240eba28db22580.jpg\n",
      " sc01.alicdn.com/kf/H61e2910d76cb4ea791c3e58b1aebce1d8.jpg\n"
     ]
    }
   ],
   "source": [
    "for i in link:\n",
    "    print(i)"
   ]
  },
  {
   "cell_type": "code",
   "execution_count": 67,
   "id": "reported-walnut",
   "metadata": {},
   "outputs": [],
   "source": [
    "Product_ID = Working_dest.df['Product_ID']\n",
    "Product_Image=Working_dest.df['Product_Image']"
   ]
  },
  {
   "cell_type": "raw",
   "id": "urban-burden",
   "metadata": {},
   "source": []
  },
  {
   "cell_type": "code",
   "execution_count": 71,
   "id": "synthetic-significance",
   "metadata": {},
   "outputs": [
    {
     "name": "stdout",
     "output_type": "stream",
     "text": [
      "0    WD-1\n",
      "1    WD-2\n",
      "2    WD-3\n",
      "Name: Product_ID, dtype: object\n",
      "0    https://sc01.alicdn.com/kf/H4988a7daeffb43419f...\n",
      "1    //sc01.alicdn.com/kf/H8003f8b393a947ee89afd544...\n",
      "2    //sc01.alicdn.com/kf/H1b2cc6deae6d4bdfa3e38a17...\n",
      "Name: Product_Image, dtype: object\n"
     ]
    }
   ],
   "source": [
    "print(Product_ID)\n",
    "print(Product_Image)"
   ]
  },
  {
   "cell_type": "code",
   "execution_count": null,
   "id": "enclosed-chemical",
   "metadata": {},
   "outputs": [],
   "source": []
  },
  {
   "cell_type": "code",
   "execution_count": null,
   "id": "humanitarian-soldier",
   "metadata": {},
   "outputs": [],
   "source": []
  }
 ],
 "metadata": {
  "kernelspec": {
   "display_name": "Python 3.8.5 64-bit",
   "language": "python",
   "name": "python38564bit7e217cae3017463aa0aa85d5228ee7c8"
  },
  "language_info": {
   "codemirror_mode": {
    "name": "ipython",
    "version": 3
   },
   "file_extension": ".py",
   "mimetype": "text/x-python",
   "name": "python",
   "nbconvert_exporter": "python",
   "pygments_lexer": "ipython3",
   "version": "3.8.5"
  }
 },
 "nbformat": 4,
 "nbformat_minor": 5
}
